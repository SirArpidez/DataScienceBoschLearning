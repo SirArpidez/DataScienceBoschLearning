{
 "cells": [
  {
   "cell_type": "markdown",
   "metadata": {},
   "source": [
    "Exercise no 1\n",
    "\n",
    "database, tables, line and dates to be used:\n",
    "\n",
    "\t\tdatabase:\t\t proc_jumes16\n",
    "\t\ttables to be used:\t process_287 and process_279\n",
    "\t\tline number:\t\t 0202\n",
    "\t\tfirst date:\t\t 2021-01-11\n",
    "\t\tlast date:\t\t 2021-01-15\n",
    "\n",
    "Exercise 1.1):\n",
    "Create one sql statement for each of the two tables. Each statement should retrieve the distinct uniquepart_ids and process_dates for all parts which were produced on the given line between the first and the last date.\n",
    "\n",
    "Create two pandas dataframes by running these two sql statements.\n",
    "\n",
    "Use the above two dataframes and some pandas commands in order to create two other dataframes which list the number of parts produced per day (process_date column as a proxy to dertmine the production date of each part)."
   ]
  },
  {
   "cell_type": "code",
   "execution_count": 25,
   "metadata": {},
   "outputs": [],
   "source": [
    "import pyodbc\n",
    "import pandas as pd \n",
    "import dateutil"
   ]
  },
  {
   "cell_type": "code",
   "execution_count": 19,
   "metadata": {},
   "outputs": [],
   "source": [
    "conn = pyodbc.connect(\"DSN=JuP1\", autocommit=True)\n",
    "cursor = conn.cursor()\n",
    "\n",
    "Database1 = \"proc_jumes16\"\n",
    "Process_List = [\"process_287\", \"process_279\"]\n",
    "Line_number = \"0202\"\n",
    "First_date = \"2021-01-11\"\n",
    "Last_date = \"2021-01-15\"\n",
    "\n",
    "Query_sql_287 = \"SELECT process_date, uniquepart_id FROM \"+Database+ \".\" +Process_List[1]+ \" WHERE cast(line_number as int) = \" +Line_number+ \" AND process_date BETWEEN \" + '\"'+First_date+'\"'+ \" AND \" + '\"'+Last_date+'\"'\n",
    "Query_sql_279 = \"SELECT process_date, uniquepart_id FROM \"+Database+ \".\" +Process_List[0]+ \" WHERE cast(line_number as int) = \" +Line_number+ \" AND process_date BETWEEN \" + '\"'+First_date+'\"'+ \" AND \" + '\"'+Last_date+'\"'\n"
   ]
  },
  {
   "cell_type": "code",
   "execution_count": 20,
   "metadata": {},
   "outputs": [],
   "source": [
    "table1_df = pd.read_sql(Query_sql_287, conn)\n",
    "table2_df = pd.read_sql(Query_sql_279, conn)\n",
    "\n"
   ]
  },
  {
   "cell_type": "code",
   "execution_count": 26,
   "metadata": {},
   "outputs": [],
   "source": [
    "# Convert date from string to date times\n",
    "table1_df['process_date'] = table1_df['process_date'].apply(dateutil.parser.parse, dayfirst=True)"
   ]
  },
  {
   "cell_type": "code",
   "execution_count": 31,
   "metadata": {},
   "outputs": [],
   "source": [
    "Split_dates_proc279 = table1_df['process_date'].value_counts()"
   ]
  },
  {
   "cell_type": "code",
   "execution_count": 32,
   "metadata": {},
   "outputs": [],
   "source": [
    "Split_dates_proc287 = table2_df['process_date'].value_counts()"
   ]
  },
  {
   "cell_type": "code",
   "execution_count": 33,
   "metadata": {},
   "outputs": [
    {
     "data": {
      "text/plain": [
       "2021-01-12    6208\n",
       "2021-01-11    6116\n",
       "2021-01-15    5372\n",
       "2021-01-14    2710\n",
       "2021-01-13    1451\n",
       "Name: process_date, dtype: int64"
      ]
     },
     "execution_count": 33,
     "metadata": {},
     "output_type": "execute_result"
    }
   ],
   "source": [
    "Split_dates_proc287"
   ]
  },
  {
   "cell_type": "code",
   "execution_count": 34,
   "metadata": {},
   "outputs": [
    {
     "data": {
      "text/plain": [
       "2021-11-01    6246\n",
       "2021-12-01    6176\n",
       "2021-01-15    5500\n",
       "2021-01-14    2720\n",
       "2021-01-13    1439\n",
       "Name: process_date, dtype: int64"
      ]
     },
     "execution_count": 34,
     "metadata": {},
     "output_type": "execute_result"
    }
   ],
   "source": [
    "Split_dates_proc279"
   ]
  },
  {
   "cell_type": "code",
   "execution_count": 49,
   "metadata": {},
   "outputs": [],
   "source": [
    "df_table1grouped = table1_df.groupby('process_date').count()"
   ]
  },
  {
   "cell_type": "code",
   "execution_count": 50,
   "metadata": {},
   "outputs": [],
   "source": [
    "df_table2grouped = table2_df.groupby('process_date').count()"
   ]
  },
  {
   "cell_type": "code",
   "execution_count": 53,
   "metadata": {},
   "outputs": [],
   "source": [
    "Joined_dfs = df_table1grouped.join(df_table2grouped, lsuffix='_caller', rsuffix='_other')"
   ]
  },
  {
   "cell_type": "code",
   "execution_count": 54,
   "metadata": {},
   "outputs": [
    {
     "data": {
      "text/html": [
       "<div>\n",
       "<style scoped>\n",
       "    .dataframe tbody tr th:only-of-type {\n",
       "        vertical-align: middle;\n",
       "    }\n",
       "\n",
       "    .dataframe tbody tr th {\n",
       "        vertical-align: top;\n",
       "    }\n",
       "\n",
       "    .dataframe thead th {\n",
       "        text-align: right;\n",
       "    }\n",
       "</style>\n",
       "<table border=\"1\" class=\"dataframe\">\n",
       "  <thead>\n",
       "    <tr style=\"text-align: right;\">\n",
       "      <th></th>\n",
       "      <th>uniquepart_id_caller</th>\n",
       "      <th>uniquepart_id_other</th>\n",
       "    </tr>\n",
       "    <tr>\n",
       "      <th>process_date</th>\n",
       "      <th></th>\n",
       "      <th></th>\n",
       "    </tr>\n",
       "  </thead>\n",
       "  <tbody>\n",
       "    <tr>\n",
       "      <th>2021-01-13</th>\n",
       "      <td>1439</td>\n",
       "      <td>1451.0</td>\n",
       "    </tr>\n",
       "    <tr>\n",
       "      <th>2021-01-14</th>\n",
       "      <td>2720</td>\n",
       "      <td>2710.0</td>\n",
       "    </tr>\n",
       "    <tr>\n",
       "      <th>2021-01-15</th>\n",
       "      <td>5500</td>\n",
       "      <td>5372.0</td>\n",
       "    </tr>\n",
       "    <tr>\n",
       "      <th>2021-11-01</th>\n",
       "      <td>6246</td>\n",
       "      <td>NaN</td>\n",
       "    </tr>\n",
       "    <tr>\n",
       "      <th>2021-12-01</th>\n",
       "      <td>6176</td>\n",
       "      <td>NaN</td>\n",
       "    </tr>\n",
       "  </tbody>\n",
       "</table>\n",
       "</div>"
      ],
      "text/plain": [
       "              uniquepart_id_caller  uniquepart_id_other\n",
       "process_date                                           \n",
       "2021-01-13                    1439               1451.0\n",
       "2021-01-14                    2720               2710.0\n",
       "2021-01-15                    5500               5372.0\n",
       "2021-11-01                    6246                  NaN\n",
       "2021-12-01                    6176                  NaN"
      ]
     },
     "execution_count": 54,
     "metadata": {},
     "output_type": "execute_result"
    }
   ],
   "source": [
    "Joined_dfs\n"
   ]
  }
 ],
 "metadata": {
  "kernelspec": {
   "display_name": "Python 3",
   "language": "python",
   "name": "python3"
  },
  "language_info": {
   "codemirror_mode": {
    "name": "ipython",
    "version": 3
   },
   "file_extension": ".py",
   "mimetype": "text/x-python",
   "name": "python",
   "nbconvert_exporter": "python",
   "pygments_lexer": "ipython3",
   "version": "3.8.3"
  }
 },
 "nbformat": 4,
 "nbformat_minor": 2
}
